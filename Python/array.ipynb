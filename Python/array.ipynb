{
 "cells": [
  {
   "cell_type": "markdown",
   "metadata": {},
   "source": [
    "\n",
    "## Array (107)\n",
    "**0. Missing Ranges.py  add head and tail to make everything runs in the same \n",
    "想复杂了\n",
    "**      Level: Medium      Tags: [Array]\n",
    "      \n",
    "**0. Next_Permutation.py  \n",
    "也想复杂了\n",
    "1. 哪个最右是可调换的\n",
    "2. 可以和哪个最右调换\n",
    "3. 剩下的reverse\n",
    "从左到右 如果 *相邻* 并且小 就说明可调换 记住最右 （-1 直接reverse）\n",
    "\n",
    "**      Level: Medium      Tags: [Array]"
   ]
  },
  {
   "cell_type": "code",
   "execution_count": 17,
   "metadata": {
    "collapsed": false
   },
   "outputs": [],
   "source": [
    "from missing_ranges import Solution"
   ]
  },
  {
   "cell_type": "code",
   "execution_count": 11,
   "metadata": {
    "collapsed": true
   },
   "outputs": [],
   "source": [
    "# Time:  O(n)\n",
    "# Space: O(1)\n",
    "#\n",
    "# Given a sorted integer array where the range of elements are [lower, upper] inclusive,\n",
    "# return its missing ranges.\n",
    "#\n",
    "# For example, given [0, 1, 3, 50, 75], lower = 0 and upper = 99,\n",
    "# return [\"2\", \"4->49\", \"51->74\", \"76->99\"].\n",
    "#\n",
    "import itertools\n",
    "\n",
    "class Solution(object):\n",
    "    def findMissingRanges(self, nums, lower, upper):\n",
    "        \"\"\"\n",
    "        :type nums: List[int]\n",
    "        :type lower: int\n",
    "        :type upper: int\n",
    "        :rtype: List[str]\n",
    "        \"\"\"\n",
    "        def getRange(lower, upper):\n",
    "            if lower == upper:\n",
    "                return \"{}\".format(lower)\n",
    "            else:\n",
    "                return \"{}->{}\".format(lower, upper)\n",
    "        ranges = []\n",
    "        pre = lower - 1\n",
    "\n",
    "        for i in xrange(len(nums) + 1):\n",
    "            if i == len(nums):\n",
    "                cur = upper + 1\n",
    "            else:\n",
    "                cur = nums[i]\n",
    "            if cur - pre >= 2\n",
    "                ranges.append(getRange(pre + 1, cur - 1))\n",
    "\n",
    "            pre = cur\n",
    "\n",
    "        return ranges"
   ]
  },
  {
   "cell_type": "code",
   "execution_count": 80,
   "metadata": {
    "collapsed": false
   },
   "outputs": [
    {
     "name": "stdout",
     "output_type": "stream",
     "text": [
      "[2, 1, 3, 4]\n",
      "[2, 1, 4, 3]\n",
      "[2, 1, 3, 4]\n"
     ]
    }
   ],
   "source": [
    "from __future__ import print_function\n",
    "# Time:  O(n)\n",
    "# Space: O(1)\n",
    "#\n",
    "# Implement next permutation, which rearranges numbers into the lexicographically next greater permutation of numbers.\n",
    "#\n",
    "# If such arrangement is not possible, it must rearrange it as the lowest possible order (ie, sorted in ascending order).\n",
    "#\n",
    "# The replacement must be in-place, do not allocate extra memory.\n",
    "#\n",
    "# Here are some examples. Inputs are in the left-hand column and its corresponding outputs are in the right-hand column.\n",
    "# 1,2,3 -> 1,3,2\n",
    "# 3,2,1 -> 1,2,3\n",
    "# 1,1,5 -> 1,5,1\n",
    "#\n",
    "\n",
    "class Solution:\n",
    "    # @param {integer[]} nums\n",
    "    # @return {void} Do not return anything, modify nums in-place instead.\n",
    "    def nextPermutation(self, num):\n",
    "        left = -1\n",
    "        right = 0\n",
    "        for i in range(len(num)-1):\n",
    "            if num[i] < num[i+1]:\n",
    "                left = i\n",
    "        if left == -1:\n",
    "            num.reverse()\n",
    "            return\n",
    "        for i in range(left+1,len(num)):\n",
    "            if num[i] > num[left]:\n",
    "                right = i\n",
    "        num[left],num[right] = num[right],num[left]\n",
    "        num[left+1:] = num[:left:-1]\n",
    "        \n",
    "    def nextPermutation1(self, num):\n",
    "\n",
    "        k, l = -1, 0\n",
    "        for i in xrange(len(num) - 1):\n",
    "            if num[i] < num[i + 1]:\n",
    "                k = i\n",
    "\n",
    "        if k == -1:\n",
    "            num.reverse()\n",
    "            return\n",
    "\n",
    "        for i in xrange(k + 1, len(num)):\n",
    "            if num[i] > num[k]:\n",
    "                l = i\n",
    "\n",
    "        num[k], num[l] = num[l], num[k]\n",
    "        num[k + 1:] = num[:k:-1]\n",
    "if __name__ == \"__main__\":\n",
    "    num = [1, 4, 3, 2]\n",
    "    Solution().nextPermutation(num)\n",
    "    print(num)\n",
    "    Solution().nextPermutation(num)\n",
    "    print(num)\n",
    "    Solution().nextPermutation(num)\n",
    "    print(num)\n"
   ]
  },
  {
   "cell_type": "code",
   "execution_count": null,
   "metadata": {
    "collapsed": true
   },
   "outputs": [],
   "source": [
    "1234 4321"
   ]
  },
  {
   "cell_type": "code",
   "execution_count": null,
   "metadata": {
    "collapsed": true
   },
   "outputs": [],
   "source": []
  },
  {
   "cell_type": "code",
   "execution_count": null,
   "metadata": {
    "collapsed": true
   },
   "outputs": [],
   "source": [
    "2,3,1,4   ->  "
   ]
  },
  {
   "cell_type": "code",
   "execution_count": 64,
   "metadata": {
    "collapsed": false
   },
   "outputs": [
    {
     "data": {
      "text/plain": [
       "[4]"
      ]
     },
     "execution_count": 64,
     "metadata": {},
     "output_type": "execute_result"
    }
   ],
   "source": [
    "a = [1,2,3,4]\n",
    "a[:2:-1]"
   ]
  },
  {
   "cell_type": "code",
   "execution_count": 56,
   "metadata": {
    "collapsed": false
   },
   "outputs": [
    {
     "data": {
      "text/plain": [
       "[3, 4]"
      ]
     },
     "execution_count": 56,
     "metadata": {},
     "output_type": "execute_result"
    }
   ],
   "source": [
    "a[2:]"
   ]
  },
  {
   "cell_type": "code",
   "execution_count": null,
   "metadata": {
    "collapsed": true
   },
   "outputs": [],
   "source": []
  }
 ],
 "metadata": {
  "kernelspec": {
   "display_name": "Python 2",
   "language": "python",
   "name": "python2"
  },
  "language_info": {
   "codemirror_mode": {
    "name": "ipython",
    "version": 2
   },
   "file_extension": ".py",
   "mimetype": "text/x-python",
   "name": "python",
   "nbconvert_exporter": "python",
   "pygments_lexer": "ipython2",
   "version": "2.7.11"
  }
 },
 "nbformat": 4,
 "nbformat_minor": 0
}
